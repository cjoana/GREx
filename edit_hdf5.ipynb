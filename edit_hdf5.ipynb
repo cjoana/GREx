{
 "cells": [
  {
   "attachments": {},
   "cell_type": "markdown",
   "metadata": {},
   "source": [
    "## Notebook to interactively modify a HDF5 \n",
    "* (a) GRChombo checkpoint \n",
    "* (b) processed analysis file "
   ]
  },
  {
   "attachments": {},
   "cell_type": "markdown",
   "metadata": {},
   "source": [
    "### a) GRChombo checkpoint"
   ]
  },
  {
   "cell_type": "code",
   "execution_count": 26,
   "metadata": {},
   "outputs": [],
   "source": [
    "import h5py\n",
    "import numpy as np\n",
    "import os \n",
    "\n",
    "path = \"./\"\n",
    "filepath = \"./run0_996000.3d.hdf5\"\n",
    "\n",
    "newfile = \"./__mod_init.3d.hdf5\"\n"
   ]
  },
  {
   "cell_type": "code",
   "execution_count": 27,
   "metadata": {},
   "outputs": [
    {
     "name": "stdout",
     "output_type": "stream",
     "text": [
      " Check, number of iterations (= 0) and step_since_regrid_0 (= 0)\n"
     ]
    }
   ],
   "source": [
    "last_dset = 1e7  # Chombo allows datasets until [pref]_999999.3d.hdf5\n",
    "\n",
    "os.system(f'cp {filepath} {newfile}') \n",
    "# !cp filepath newfile\n",
    "\n",
    "with h5py.File(newfile,  \"a\") as h5:\n",
    "    \n",
    "    ## Do some printing of levels/attributes: \n",
    "    def _do_some_printing(h5):\n",
    "\n",
    "        ks =  [k for k in h5.keys()]\n",
    "        att = [k for k in h5.attrs]\n",
    "        print(f\"File >> levels :  {ks}\")\n",
    "        print(f\"File >> attrs:   {att}\")\n",
    "\n",
    "        for lv in ks: \n",
    "            print(f\"  >> level {lv}\") \n",
    "\n",
    "            lev = h5[lv]\n",
    "            kss =  [k for k in lev.keys()]\n",
    "            atts = [k for k in lev.attrs]\n",
    "            print(f\"  >> level {lv} >> levels :  {kss}\")\n",
    "            print(f\"  >> level {lv} >> attrs:   {atts}\")\n",
    "\n",
    "            for slev in kss: \n",
    "                ksss =  [k for k in lev.keys()]\n",
    "                attss = [k for k in lev.attrs]\n",
    "                print(f\"  >> level {lv}/{slev} >> levels :  {ksss}\")\n",
    "                print(f\"  >> level {lv}/{slev} >> attrs:   {attss}\")\n",
    "            \n",
    "        return 0\n",
    "    \n",
    "    ## activate for prints :)\n",
    "    #_do_some_printing(h5)\n",
    "\n",
    "    ## Change iteration step: \n",
    "\n",
    "    h5.attrs[\"iteration\"] = 0\n",
    "    h5.attrs[\"steps_since_regrid_0\"] = 0\n",
    "\n",
    "\n",
    "with h5py.File(newfile,  \"a\") as h5:\n",
    "    print(f\" Check, number of iterations (= {h5.attrs['iteration']}) and step_since_regrid_0 (= {h5.attrs['steps_since_regrid_0']})\")\n",
    "\n",
    "\n",
    "\n"
   ]
  },
  {
   "cell_type": "code",
   "execution_count": null,
   "metadata": {},
   "outputs": [],
   "source": []
  },
  {
   "cell_type": "code",
   "execution_count": null,
   "metadata": {},
   "outputs": [],
   "source": []
  }
 ],
 "metadata": {
  "kernelspec": {
   "display_name": "Python 3",
   "language": "python",
   "name": "python3"
  },
  "language_info": {
   "codemirror_mode": {
    "name": "ipython",
    "version": 3
   },
   "file_extension": ".py",
   "mimetype": "text/x-python",
   "name": "python",
   "nbconvert_exporter": "python",
   "pygments_lexer": "ipython3",
   "version": "3.9.6"
  },
  "orig_nbformat": 4
 },
 "nbformat": 4,
 "nbformat_minor": 2
}
