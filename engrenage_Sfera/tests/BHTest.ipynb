{
 "cells": [
  {
   "cell_type": "code",
   "execution_count": null,
   "id": "68281b30",
   "metadata": {},
   "outputs": [
    {
     "data": {
      "text/html": [
       "<script>Jupyter.notebook.kernel.restart()</script>"
      ],
      "text/plain": [
       "<IPython.core.display.HTML object>"
      ]
     },
     "execution_count": 7,
     "metadata": {},
     "output_type": "execute_result"
    }
   ],
   "source": [
    "# This is a test to check that the rhs is correctly calculated for a (non trivial) BH spacetime\n",
    "\n",
    "# restart the kernel to clear past work\n",
    "from IPython.core.display import HTML\n",
    "HTML(\"<script>Jupyter.notebook.kernel.restart()</script>\")"
   ]
  },
  {
   "cell_type": "code",
   "execution_count": 1,
   "id": "5ae36db4",
   "metadata": {},
   "outputs": [],
   "source": [
    "# load the required python modules\n",
    "import numpy as np\n",
    "from scipy.interpolate import interp1d\n",
    "from scipy.integrate import odeint\n",
    "import time\n",
    "import random\n",
    "import sys\n",
    "from tqdm import tqdm\n",
    "import matplotlib.pyplot as plt\n",
    "%matplotlib inline\n",
    "\n",
    "# homemade code\n",
    "sys.path.append('../')\n",
    "from source.rhsevolution import *              # go here to look at how the evolution works\n",
    "from source.mytests import *                   # go here to change the test conditions\n",
    "from source.hamdiagnostic import *               # go here to change the  diagnostics"
   ]
  },
  {
   "cell_type": "code",
   "execution_count": 12,
   "id": "197bbb4e",
   "metadata": {},
   "outputs": [
    {
     "data": {
      "image/png": "[encoded data removed]",
      "text/plain": [
       "<Figure size 432x288 with 1 Axes>"
      ]
     },
     "metadata": {
      "needs_background": "light"
     },
     "output_type": "display_data"
    }
   ],
   "source": [
    "# Input parameters for grid and evolution here\n",
    "N_r = 100 # num points on physical grid\n",
    "R = 1.0 # Maximum outer radius, or sets dx_0 = R/N_r for logarithmic case\n",
    "\n",
    "# Test the rhs values, use eddington finkelstein which has non trivial Kij and shift\n",
    "r_is_logarithmic = True\n",
    "r, initial_state = get_test_state_bh(R, N_r, r_is_logarithmic)\n",
    "\n",
    "#unpackage the vector for readability\n",
    "(u, v, phi, hrr, htt, hpp, K, arr, att, app, lambdar, shiftr, br, lapse) = unpack_state(initial_state, N_r)\n",
    "\n",
    "#plot initial conditions\n",
    "plt.xlabel('r')\n",
    "plt.plot(r, shiftr, label='shiftr')\n",
    "plt.plot(r, phi, label='phi')\n",
    "#plt.plot(r, hrr, label='hrr')\n",
    "#plt.plot(r, htt, label='htt')\n",
    "plt.plot(r, lambdar, label='lambdar')\n",
    "#plt.plot(r, arr, label='arr')\n",
    "plt.plot(r, K, label='K')\n",
    "plt.plot(r, lapse, label='lapse')\n",
    "plt.ylim(-3.1,3.1)\n",
    "#plt.xlim(0.0,5.0)\n",
    "plt.legend(loc='best')\n",
    "plt.grid()\n",
    "\n",
    "khere = K"
   ]
  },
  {
   "cell_type": "code",
   "execution_count": 13,
   "id": "2c958ea2",
   "metadata": {},
   "outputs": [
    {
     "name": "stderr",
     "output_type": "stream",
     "text": [
      "\n",
      "  0%|                                                   | 0/1000 [00:11<?, ?‰/s]\u001b[A\n",
      "\n",
      "  0%|                                                   | 0/1000 [00:00<?, ?‰/s]\u001b[A"
     ]
    },
    {
     "data": {
      "image/png": "[encoded data removed]",
      "text/plain": [
       "<Figure size 432x288 with 1 Axes>"
      ]
     },
     "metadata": {
      "needs_background": "light"
     },
     "output_type": "display_data"
    }
   ],
   "source": [
    "# calculate the rhs values and plot them\n",
    "progress_bar = tqdm(total=1000, unit=\"‰\")\n",
    "eta = 1.0\n",
    "solution = get_rhs(0.0, initial_state, R, N_r, r_is_logarithmic, eta, progress_bar, [0, 1])\n",
    "\n",
    "#unpackage the vector for readability\n",
    "(u, v, phi, hrr, htt, hpp, K, arr, att, app, lambdar, shiftr, br, lapse) = unpack_state(solution, N_r)\n",
    "\n",
    "#plot rhs - all those for the metric components should be zero modulo boundary issues and the inner singularity\n",
    "plt.xlabel('r')\n",
    "plt.plot(r, phi, label='phi')\n",
    "plt.plot(r, hrr, label='hrr')\n",
    "plt.plot(r, htt, label='htt')\n",
    "plt.plot(r, arr, label='arr')\n",
    "plt.plot(r, att, label='att')\n",
    "plt.plot(r, K, label='K')\n",
    "plt.plot(r, lambdar, label='lambdar')\n",
    "plt.ylim(-0.02,0.02)\n",
    "#plt.xlim(0.15,0.9)\n",
    "#plt.legend(loc='best')\n",
    "plt.grid()"
   ]
  }
 ],
 "metadata": {
  "kernelspec": {
   "display_name": "Python 3 (ipykernel)",
   "language": "python",
   "name": "python3"
  },
  "language_info": {
   "codemirror_mode": {
    "name": "ipython",
    "version": 3
   },
   "file_extension": ".py",
   "mimetype": "text/x-python",
   "name": "python",
   "nbconvert_exporter": "python",
   "pygments_lexer": "ipython3",
   "version": "3.9.7"
  }
 },
 "nbformat": 4,
 "nbformat_minor": 5
}
